{
  "nbformat": 4,
  "nbformat_minor": 0,
  "metadata": {
    "colab": {
      "name": "Perceptron.ipynb",
      "provenance": [],
      "collapsed_sections": [],
      "authorship_tag": "ABX9TyO38SVImyO+i1dXC19ewoKg",
      "include_colab_link": true
    },
    "kernelspec": {
      "name": "python3",
      "display_name": "Python 3"
    }
  },
  "cells": [
    {
      "cell_type": "markdown",
      "metadata": {
        "id": "view-in-github",
        "colab_type": "text"
      },
      "source": [
        "<a href=\"https://colab.research.google.com/github/G0rav/DL_Class/blob/main/Perceptron.ipynb\" target=\"_parent\"><img src=\"https://colab.research.google.com/assets/colab-badge.svg\" alt=\"Open In Colab\"/></a>"
      ]
    },
    {
      "cell_type": "code",
      "metadata": {
        "id": "7lk4VjwVSFZS"
      },
      "source": [
        "import numpy as np\r\n",
        "import matplotlib.pyplot as plt\r\n",
        "\r\n",
        "class perceptron:\r\n",
        "  \" Single perceptron used for basic booleand AND, OR operations\"\r\n",
        "\r\n",
        "  def __init__(self, learning_rate = 0.1, epochs = 5):\r\n",
        "    self.learning_rate = learning_rate\r\n",
        "    self.epochs = epochs\r\n",
        "    self.weights = None\r\n",
        "    self.bias = None\r\n",
        "\r\n",
        "  def w(self):\r\n",
        "    return self.weights\r\n",
        "    \r\n",
        "  def activation_function(self,z):\r\n",
        "    return np.where(z>0,1,0)\r\n",
        "\r\n",
        "  def predict(self,x):\r\n",
        "    z = np.dot(x,self.weights) + self.bias\r\n",
        "    return self.activation_function(z)\r\n",
        "\r\n",
        "  def fit(self,x,y):\r\n",
        "    self.weights = np.random.random(x.shape[1])\r\n",
        "    self.bias = np.random.random(1)\r\n",
        "\r\n",
        "    for epoch in range(self.epochs):\r\n",
        "      print(f'y shape {y.shape}')\r\n",
        "      y_hat = self.predict(x)\r\n",
        "      print(f'y_hat shape {y_hat.shape}')\r\n",
        "      \r\n",
        "      self.weights += self.learning_rate * (y - y_hat) * x\r\n",
        "      self.bias += self.learning_rate * (y - y_hat)\r\n",
        "\r\n",
        "      plt.scatter(x,y, color = 'r')\r\n",
        "      plt.plot(x,y_hat, color = 'yellow')\r\n",
        "\r\n",
        "\r\n"
      ],
      "execution_count": 35,
      "outputs": []
    },
    {
      "cell_type": "code",
      "metadata": {
        "colab": {
          "base_uri": "https://localhost:8080/",
          "height": 350
        },
        "id": "Siqq-SumgHh6",
        "outputId": "35fb003d-7894-48fa-b640-f6b74e59074a"
      },
      "source": [
        "x = np.array([\r\n",
        "              [0,0],\r\n",
        "              [0,1],\r\n",
        "              [1,0],\r\n",
        "              [1,1]\r\n",
        "])\r\n",
        "\r\n",
        "y = np.array([0,0,0,1])\r\n",
        "\r\n",
        "model = perceptron()\r\n",
        "\r\n",
        "model.fit(x,y)"
      ],
      "execution_count": 36,
      "outputs": [
        {
          "output_type": "stream",
          "text": [
            "y shape (4,)\n",
            "y_hat shape (4,)\n"
          ],
          "name": "stdout"
        },
        {
          "output_type": "error",
          "ename": "ValueError",
          "evalue": "ignored",
          "traceback": [
            "\u001b[0;31m---------------------------------------------------------------------------\u001b[0m",
            "\u001b[0;31mValueError\u001b[0m                                Traceback (most recent call last)",
            "\u001b[0;32m<ipython-input-36-b66944a37276>\u001b[0m in \u001b[0;36m<module>\u001b[0;34m()\u001b[0m\n\u001b[1;32m     10\u001b[0m \u001b[0mmodel\u001b[0m \u001b[0;34m=\u001b[0m \u001b[0mperceptron\u001b[0m\u001b[0;34m(\u001b[0m\u001b[0;34m)\u001b[0m\u001b[0;34m\u001b[0m\u001b[0;34m\u001b[0m\u001b[0m\n\u001b[1;32m     11\u001b[0m \u001b[0;34m\u001b[0m\u001b[0m\n\u001b[0;32m---> 12\u001b[0;31m \u001b[0mmodel\u001b[0m\u001b[0;34m.\u001b[0m\u001b[0mfit\u001b[0m\u001b[0;34m(\u001b[0m\u001b[0mx\u001b[0m\u001b[0;34m,\u001b[0m\u001b[0my\u001b[0m\u001b[0;34m)\u001b[0m\u001b[0;34m\u001b[0m\u001b[0;34m\u001b[0m\u001b[0m\n\u001b[0m",
            "\u001b[0;32m<ipython-input-35-1504f400f96a>\u001b[0m in \u001b[0;36mfit\u001b[0;34m(self, x, y)\u001b[0m\n\u001b[1;32m     30\u001b[0m       \u001b[0mprint\u001b[0m\u001b[0;34m(\u001b[0m\u001b[0;34mf'y_hat shape {y_hat.shape}'\u001b[0m\u001b[0;34m)\u001b[0m\u001b[0;34m\u001b[0m\u001b[0;34m\u001b[0m\u001b[0m\n\u001b[1;32m     31\u001b[0m \u001b[0;34m\u001b[0m\u001b[0m\n\u001b[0;32m---> 32\u001b[0;31m       \u001b[0mself\u001b[0m\u001b[0;34m.\u001b[0m\u001b[0mweights\u001b[0m \u001b[0;34m+=\u001b[0m \u001b[0mself\u001b[0m\u001b[0;34m.\u001b[0m\u001b[0mlearning_rate\u001b[0m \u001b[0;34m*\u001b[0m \u001b[0;34m(\u001b[0m\u001b[0my\u001b[0m \u001b[0;34m-\u001b[0m \u001b[0my_hat\u001b[0m\u001b[0;34m)\u001b[0m \u001b[0;34m*\u001b[0m \u001b[0mx\u001b[0m\u001b[0;34m\u001b[0m\u001b[0;34m\u001b[0m\u001b[0m\n\u001b[0m\u001b[1;32m     33\u001b[0m       \u001b[0mself\u001b[0m\u001b[0;34m.\u001b[0m\u001b[0mbias\u001b[0m \u001b[0;34m+=\u001b[0m \u001b[0mself\u001b[0m\u001b[0;34m.\u001b[0m\u001b[0mlearning_rate\u001b[0m \u001b[0;34m*\u001b[0m \u001b[0;34m(\u001b[0m\u001b[0my\u001b[0m \u001b[0;34m-\u001b[0m \u001b[0my_hat\u001b[0m\u001b[0;34m)\u001b[0m\u001b[0;34m\u001b[0m\u001b[0;34m\u001b[0m\u001b[0m\n\u001b[1;32m     34\u001b[0m \u001b[0;34m\u001b[0m\u001b[0m\n",
            "\u001b[0;31mValueError\u001b[0m: operands could not be broadcast together with shapes (4,) (4,2) "
          ]
        }
      ]
    },
    {
      "cell_type": "code",
      "metadata": {
        "id": "-jO9r3YdgHlg"
      },
      "source": [
        ""
      ],
      "execution_count": null,
      "outputs": []
    },
    {
      "cell_type": "code",
      "metadata": {
        "id": "OQIXUcs5gHtE"
      },
      "source": [
        ""
      ],
      "execution_count": null,
      "outputs": []
    },
    {
      "cell_type": "code",
      "metadata": {
        "colab": {
          "base_uri": "https://localhost:8080/"
        },
        "id": "TpVJFDm9WrZK",
        "outputId": "18bd6305-5bef-40f9-e97e-a3f708456333"
      },
      "source": [
        "import numpy as np\r\n",
        "w = np.array([[1,2],[4,5],[4,5]])\r\n",
        "b = np.array([9,8])\r\n",
        "\r\n",
        "print(w.shape, w)\r\n",
        "print(b.shape,b)\r\n",
        "\r\n",
        "np.dot(w,b).shape"
      ],
      "execution_count": null,
      "outputs": [
        {
          "output_type": "stream",
          "text": [
            "(3, 2) [[1 2]\n",
            " [4 5]\n",
            " [4 5]]\n",
            "(2,) [9 8]\n"
          ],
          "name": "stdout"
        },
        {
          "output_type": "execute_result",
          "data": {
            "text/plain": [
              "(3,)"
            ]
          },
          "metadata": {
            "tags": []
          },
          "execution_count": 12
        }
      ]
    },
    {
      "cell_type": "code",
      "metadata": {
        "colab": {
          "base_uri": "https://localhost:8080/"
        },
        "id": "enWE69Y6dmr_",
        "outputId": "12258c63-1b4e-452d-fbbe-03b281197367"
      },
      "source": [
        "np.random.random(1)"
      ],
      "execution_count": null,
      "outputs": [
        {
          "output_type": "execute_result",
          "data": {
            "text/plain": [
              "array([0.55018724])"
            ]
          },
          "metadata": {
            "tags": []
          },
          "execution_count": 13
        }
      ]
    }
  ]
}