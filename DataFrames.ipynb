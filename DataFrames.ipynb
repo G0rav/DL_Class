{
  "nbformat": 4,
  "nbformat_minor": 0,
  "metadata": {
    "kernelspec": {
      "display_name": "Python 3",
      "language": "python",
      "name": "python3"
    },
    "language_info": {
      "codemirror_mode": {
        "name": "ipython",
        "version": 3
      },
      "file_extension": ".py",
      "mimetype": "text/x-python",
      "name": "python",
      "nbconvert_exporter": "python",
      "pygments_lexer": "ipython3",
      "version": "3.7.4"
    },
    "colab": {
      "name": "DataFrames.ipynb",
      "provenance": [],
      "include_colab_link": true
    }
  },
  "cells": [
    {
      "cell_type": "markdown",
      "metadata": {
        "id": "view-in-github",
        "colab_type": "text"
      },
      "source": [
        "<a href=\"https://colab.research.google.com/github/G0rav/DL_Class/blob/main/DataFrames.ipynb\" target=\"_parent\"><img src=\"https://colab.research.google.com/assets/colab-badge.svg\" alt=\"Open In Colab\"/></a>"
      ]
    },
    {
      "cell_type": "markdown",
      "metadata": {
        "id": "4mTAkTxDPIkL"
      },
      "source": [
        "# DataFrame (not Dataframe or dataframe)"
      ]
    },
    {
      "cell_type": "code",
      "metadata": {
        "scrolled": true,
        "id": "s2UxBgIJPIkU",
        "outputId": "989949d4-fa5e-4d0b-871b-e253fb1dea5e"
      },
      "source": [
        "import pandas as pd\n",
        "data_list1d = [1,2,'n',4,5]\n",
        "print('data_list:')\n",
        "print(data_list1d)\n",
        "data_list2d = [[1,'gaurav',3,4,5],[6,'jain',8]]\n",
        "print('data_list2d:')\n",
        "print(data_list2d)"
      ],
      "execution_count": null,
      "outputs": [
        {
          "output_type": "stream",
          "text": [
            "data_list:\n",
            "[1, 2, 'n', 4, 5]\n",
            "data_list2d:\n",
            "[[1, 'gaurav', 3, 4, 5], [6, 'jain', 8]]\n"
          ],
          "name": "stdout"
        }
      ]
    },
    {
      "cell_type": "code",
      "metadata": {
        "id": "2H8Ye-jkPIkW",
        "outputId": "bd837b73-4f1d-4f9f-b5c9-5096b5fb8d7a"
      },
      "source": [
        "dataframe_list1d = pd.DataFrame(data_list1d)\n",
        "print('dataframe_list1d:')\n",
        "dataframe_list1d"
      ],
      "execution_count": null,
      "outputs": [
        {
          "output_type": "stream",
          "text": [
            "dataframe_list1d:\n"
          ],
          "name": "stdout"
        },
        {
          "output_type": "execute_result",
          "data": {
            "text/html": [
              "<div>\n",
              "<style scoped>\n",
              "    .dataframe tbody tr th:only-of-type {\n",
              "        vertical-align: middle;\n",
              "    }\n",
              "\n",
              "    .dataframe tbody tr th {\n",
              "        vertical-align: top;\n",
              "    }\n",
              "\n",
              "    .dataframe thead th {\n",
              "        text-align: right;\n",
              "    }\n",
              "</style>\n",
              "<table border=\"1\" class=\"dataframe\">\n",
              "  <thead>\n",
              "    <tr style=\"text-align: right;\">\n",
              "      <th></th>\n",
              "      <th>0</th>\n",
              "    </tr>\n",
              "  </thead>\n",
              "  <tbody>\n",
              "    <tr>\n",
              "      <td>0</td>\n",
              "      <td>1</td>\n",
              "    </tr>\n",
              "    <tr>\n",
              "      <td>1</td>\n",
              "      <td>2</td>\n",
              "    </tr>\n",
              "    <tr>\n",
              "      <td>2</td>\n",
              "      <td>n</td>\n",
              "    </tr>\n",
              "    <tr>\n",
              "      <td>3</td>\n",
              "      <td>4</td>\n",
              "    </tr>\n",
              "    <tr>\n",
              "      <td>4</td>\n",
              "      <td>5</td>\n",
              "    </tr>\n",
              "  </tbody>\n",
              "</table>\n",
              "</div>"
            ],
            "text/plain": [
              "   0\n",
              "0  1\n",
              "1  2\n",
              "2  n\n",
              "3  4\n",
              "4  5"
            ]
          },
          "metadata": {
            "tags": []
          },
          "execution_count": 36
        }
      ]
    },
    {
      "cell_type": "code",
      "metadata": {
        "id": "PXRH-wUzPIkX",
        "outputId": "e1683835-992b-444a-8b4d-4e00f7631511"
      },
      "source": [
        "dataframe_list2d = pd.DataFrame(data_list2d,index=['row1','row2'])\n",
        "print('dataframe_list2d:')\n",
        "dataframe_list2d"
      ],
      "execution_count": null,
      "outputs": [
        {
          "output_type": "stream",
          "text": [
            "dataframe_list2d:\n"
          ],
          "name": "stdout"
        },
        {
          "output_type": "execute_result",
          "data": {
            "text/html": [
              "<div>\n",
              "<style scoped>\n",
              "    .dataframe tbody tr th:only-of-type {\n",
              "        vertical-align: middle;\n",
              "    }\n",
              "\n",
              "    .dataframe tbody tr th {\n",
              "        vertical-align: top;\n",
              "    }\n",
              "\n",
              "    .dataframe thead th {\n",
              "        text-align: right;\n",
              "    }\n",
              "</style>\n",
              "<table border=\"1\" class=\"dataframe\">\n",
              "  <thead>\n",
              "    <tr style=\"text-align: right;\">\n",
              "      <th></th>\n",
              "      <th>0</th>\n",
              "      <th>1</th>\n",
              "      <th>2</th>\n",
              "      <th>3</th>\n",
              "      <th>4</th>\n",
              "    </tr>\n",
              "  </thead>\n",
              "  <tbody>\n",
              "    <tr>\n",
              "      <td>row1</td>\n",
              "      <td>1</td>\n",
              "      <td>gaurav</td>\n",
              "      <td>3</td>\n",
              "      <td>4.0</td>\n",
              "      <td>5.0</td>\n",
              "    </tr>\n",
              "    <tr>\n",
              "      <td>row2</td>\n",
              "      <td>6</td>\n",
              "      <td>jain</td>\n",
              "      <td>8</td>\n",
              "      <td>NaN</td>\n",
              "      <td>NaN</td>\n",
              "    </tr>\n",
              "  </tbody>\n",
              "</table>\n",
              "</div>"
            ],
            "text/plain": [
              "      0       1  2    3    4\n",
              "row1  1  gaurav  3  4.0  5.0\n",
              "row2  6    jain  8  NaN  NaN"
            ]
          },
          "metadata": {
            "tags": []
          },
          "execution_count": 38
        }
      ]
    },
    {
      "cell_type": "markdown",
      "metadata": {
        "id": "TEgTjPUhPIkX"
      },
      "source": [
        "## In Dictionaries array length should be same.\n",
        "### index change the name of row\n"
      ]
    },
    {
      "cell_type": "code",
      "metadata": {
        "id": "WJ22Xr0gPIkY",
        "outputId": "4c86d48f-951d-457c-cc4b-4e76699a1031"
      },
      "source": [
        "data_dict = {'Name':['Gaurav','rishabh','Ram','shyam'],'Marks':[5,6,9,8]}\n",
        "print('data_dict')\n",
        "print(data_dict)\n",
        "print()\n",
        "\n",
        "dataframe_dict = pd.DataFrame(data_dict, index = ['r1','r2','r3','r4'])\n",
        "print('dataframe_dict:')\n",
        "dataframe_dict"
      ],
      "execution_count": null,
      "outputs": [
        {
          "output_type": "stream",
          "text": [
            "data_dict\n",
            "{'Name': ['Gaurav', 'rishabh', 'Ram', 'shyam'], 'Marks': [5, 6, 9, 8]}\n",
            "\n",
            "dataframe_dict:\n"
          ],
          "name": "stdout"
        },
        {
          "output_type": "execute_result",
          "data": {
            "text/html": [
              "<div>\n",
              "<style scoped>\n",
              "    .dataframe tbody tr th:only-of-type {\n",
              "        vertical-align: middle;\n",
              "    }\n",
              "\n",
              "    .dataframe tbody tr th {\n",
              "        vertical-align: top;\n",
              "    }\n",
              "\n",
              "    .dataframe thead th {\n",
              "        text-align: right;\n",
              "    }\n",
              "</style>\n",
              "<table border=\"1\" class=\"dataframe\">\n",
              "  <thead>\n",
              "    <tr style=\"text-align: right;\">\n",
              "      <th></th>\n",
              "      <th>Name</th>\n",
              "      <th>Marks</th>\n",
              "    </tr>\n",
              "  </thead>\n",
              "  <tbody>\n",
              "    <tr>\n",
              "      <td>r1</td>\n",
              "      <td>Gaurav</td>\n",
              "      <td>5</td>\n",
              "    </tr>\n",
              "    <tr>\n",
              "      <td>r2</td>\n",
              "      <td>rishabh</td>\n",
              "      <td>6</td>\n",
              "    </tr>\n",
              "    <tr>\n",
              "      <td>r3</td>\n",
              "      <td>Ram</td>\n",
              "      <td>9</td>\n",
              "    </tr>\n",
              "    <tr>\n",
              "      <td>r4</td>\n",
              "      <td>shyam</td>\n",
              "      <td>8</td>\n",
              "    </tr>\n",
              "  </tbody>\n",
              "</table>\n",
              "</div>"
            ],
            "text/plain": [
              "       Name  Marks\n",
              "r1   Gaurav      5\n",
              "r2  rishabh      6\n",
              "r3      Ram      9\n",
              "r4    shyam      8"
            ]
          },
          "metadata": {
            "tags": []
          },
          "execution_count": 45
        }
      ]
    },
    {
      "cell_type": "code",
      "metadata": {
        "id": "CHQP6AxMPIkY",
        "outputId": "641e9369-be41-4098-fd90-b6bfaf994689"
      },
      "source": [
        "data_tuple1d = (1,2,'string')\n",
        "print('data_tuple1d')\n",
        "print(data_tuple1d)\n",
        "data_tuple2d = ((1,'gaurav',3),(4,5))\n",
        "print('data_tuple2d')\n",
        "print(data_tuple2d)"
      ],
      "execution_count": null,
      "outputs": [
        {
          "output_type": "stream",
          "text": [
            "data_tuple1d\n",
            "(1, 2, 'string')\n",
            "data_tuple2d\n",
            "((1, 'gaurav', 3), (4, 5))\n"
          ],
          "name": "stdout"
        }
      ]
    },
    {
      "cell_type": "code",
      "metadata": {
        "id": "HJEDbLbUPIkY",
        "outputId": "27c1c1d0-4fce-4df6-95ab-e8a1307a6781"
      },
      "source": [
        "dataframe_tuple1d = pd.DataFrame(data_tuple1d)\n",
        "print('dataframe_tuple1d')\n",
        "dataframe_tuple1d"
      ],
      "execution_count": null,
      "outputs": [
        {
          "output_type": "stream",
          "text": [
            "dataframe_tuple1d\n"
          ],
          "name": "stdout"
        },
        {
          "output_type": "execute_result",
          "data": {
            "text/html": [
              "<div>\n",
              "<style scoped>\n",
              "    .dataframe tbody tr th:only-of-type {\n",
              "        vertical-align: middle;\n",
              "    }\n",
              "\n",
              "    .dataframe tbody tr th {\n",
              "        vertical-align: top;\n",
              "    }\n",
              "\n",
              "    .dataframe thead th {\n",
              "        text-align: right;\n",
              "    }\n",
              "</style>\n",
              "<table border=\"1\" class=\"dataframe\">\n",
              "  <thead>\n",
              "    <tr style=\"text-align: right;\">\n",
              "      <th></th>\n",
              "      <th>0</th>\n",
              "    </tr>\n",
              "  </thead>\n",
              "  <tbody>\n",
              "    <tr>\n",
              "      <td>0</td>\n",
              "      <td>1</td>\n",
              "    </tr>\n",
              "    <tr>\n",
              "      <td>1</td>\n",
              "      <td>2</td>\n",
              "    </tr>\n",
              "    <tr>\n",
              "      <td>2</td>\n",
              "      <td>string</td>\n",
              "    </tr>\n",
              "  </tbody>\n",
              "</table>\n",
              "</div>"
            ],
            "text/plain": [
              "        0\n",
              "0       1\n",
              "1       2\n",
              "2  string"
            ]
          },
          "metadata": {
            "tags": []
          },
          "execution_count": 42
        }
      ]
    },
    {
      "cell_type": "markdown",
      "metadata": {
        "id": "AmG3K4u3PIkZ"
      },
      "source": [
        "## changing column names without dictionary"
      ]
    },
    {
      "cell_type": "code",
      "metadata": {
        "id": "FQ643MzYPIkZ",
        "outputId": "bff75cde-0f86-4c3d-b249-a743a3180dca"
      },
      "source": [
        "dataframe_tuple2d = pd.DataFrame(data_tuple2d)\n",
        "dataframe_tuple2d.columns=['a','b','c']\n",
        "print('dataframe_tuple2d')\n",
        "dataframe_tuple2d\n"
      ],
      "execution_count": null,
      "outputs": [
        {
          "output_type": "stream",
          "text": [
            "dataframe_tuple2d\n"
          ],
          "name": "stdout"
        },
        {
          "output_type": "execute_result",
          "data": {
            "text/html": [
              "<div>\n",
              "<style scoped>\n",
              "    .dataframe tbody tr th:only-of-type {\n",
              "        vertical-align: middle;\n",
              "    }\n",
              "\n",
              "    .dataframe tbody tr th {\n",
              "        vertical-align: top;\n",
              "    }\n",
              "\n",
              "    .dataframe thead th {\n",
              "        text-align: right;\n",
              "    }\n",
              "</style>\n",
              "<table border=\"1\" class=\"dataframe\">\n",
              "  <thead>\n",
              "    <tr style=\"text-align: right;\">\n",
              "      <th></th>\n",
              "      <th>a</th>\n",
              "      <th>b</th>\n",
              "      <th>c</th>\n",
              "    </tr>\n",
              "  </thead>\n",
              "  <tbody>\n",
              "    <tr>\n",
              "      <td>0</td>\n",
              "      <td>1</td>\n",
              "      <td>gaurav</td>\n",
              "      <td>3.0</td>\n",
              "    </tr>\n",
              "    <tr>\n",
              "      <td>1</td>\n",
              "      <td>4</td>\n",
              "      <td>5</td>\n",
              "      <td>NaN</td>\n",
              "    </tr>\n",
              "  </tbody>\n",
              "</table>\n",
              "</div>"
            ],
            "text/plain": [
              "   a       b    c\n",
              "0  1  gaurav  3.0\n",
              "1  4       5  NaN"
            ]
          },
          "metadata": {
            "tags": []
          },
          "execution_count": 52
        }
      ]
    },
    {
      "cell_type": "code",
      "metadata": {
        "id": "NDpUGlt_PIka",
        "outputId": "5dfa8071-7785-4138-e136-74fb664c7f49"
      },
      "source": [
        "print(dataframe_tuple2d.columns)"
      ],
      "execution_count": null,
      "outputs": [
        {
          "output_type": "stream",
          "text": [
            "Index(['a', 'b', 'c'], dtype='object')\n"
          ],
          "name": "stdout"
        }
      ]
    }
  ]
}